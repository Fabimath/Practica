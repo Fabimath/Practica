{
 "cells": [
  {
   "cell_type": "markdown",
   "metadata": {},
   "source": [
    "# Simulación en Esfera"
   ]
  },
  {
   "cell_type": "code",
   "execution_count": 14,
   "metadata": {},
   "outputs": [],
   "source": [
    "library(\"plot3D\")"
   ]
  },
  {
   "cell_type": "markdown",
   "metadata": {},
   "source": [
    "Las siguientes lineas de código generan la esfera."
   ]
  },
  {
   "cell_type": "code",
   "execution_count": 15,
   "metadata": {},
   "outputs": [],
   "source": [
    "grid_size = 100;"
   ]
  },
  {
   "cell_type": "code",
   "execution_count": 16,
   "metadata": {},
   "outputs": [],
   "source": [
    "eps = 0.01;\n",
    "theta = seq(0+eps,pi-eps,l=grid_size);\n",
    "phi = seq(0,2*pi-eps,l=grid_size);\n",
    "coord = expand.grid(phi,theta);\n",
    "x = sin(coord[,2])*cos(coord[,1]);\n",
    "y = sin(coord[,2])*sin(coord[,1]);\n",
    "z = cos(coord[,2]);\n",
    "nsites = length(x);\n",
    "val = 0.99999999999;\n",
    "escala = 1;\n",
    "mat = array(dim=c(nsites,nsites));"
   ]
  },
  {
   "cell_type": "markdown",
   "metadata": {},
   "source": [
    "Genero la función de covarianza"
   ]
  },
  {
   "cell_type": "code",
   "execution_count": 17,
   "metadata": {},
   "outputs": [],
   "source": [
    "cova <- function(escala,geod){\n",
    "  res = exp(-3*geod/escala);\n",
    "  return(res)    \n",
    "}"
   ]
  },
  {
   "cell_type": "markdown",
   "metadata": {},
   "source": [
    "Relleno la matriz de covarianza (siempre y cuando sea estacionaria débil)"
   ]
  },
  {
   "cell_type": "code",
   "execution_count": 18,
   "metadata": {},
   "outputs": [],
   "source": [
    "for(i in 1:nsites){\n",
    "  for(j in 1:nsites){\n",
    "    prod = x[i]*x[j]+y[i]*y[j]+z[i]*z[j];\n",
    "    if(prod > val){dij = 0;}\n",
    "    if(prod < -val){dij = pi;}\n",
    "    if(prod <= val & prod >= -val){dij = acos(prod);}\n",
    "    mat[i,j] = cova(escala,dij);          \n",
    "  }\n",
    "}"
   ]
  },
  {
   "cell_type": "markdown",
   "metadata": {},
   "source": [
    "Realizo la simulación"
   ]
  },
  {
   "cell_type": "code",
   "execution_count": 19,
   "metadata": {},
   "outputs": [],
   "source": [
    "set.seed(0)\n",
    "datos = t(chol(mat))%*%rnorm(nsites);"
   ]
  },
  {
   "cell_type": "code",
   "execution_count": 21,
   "metadata": {},
   "outputs": [
    {
     "data": {
      "text/html": [
       "<strong>png:</strong> 2"
      ],
      "text/latex": [
       "\\textbf{png:} 2"
      ],
      "text/markdown": [
       "**png:** 2"
      ],
      "text/plain": [
       "png \n",
       "  2 "
      ]
     },
     "metadata": {},
     "output_type": "display_data"
    }
   ],
   "source": [
    "jpeg(\"sim1.pdf\")\n",
    "scatter3D(x,y,z,colvar=datos)\n",
    "dev.off()"
   ]
  },
  {
   "cell_type": "code",
   "execution_count": null,
   "metadata": {},
   "outputs": [],
   "source": []
  }
 ],
 "metadata": {
  "kernelspec": {
   "display_name": "R",
   "language": "R",
   "name": "ir"
  },
  "language_info": {
   "codemirror_mode": "r",
   "file_extension": ".r",
   "mimetype": "text/x-r-source",
   "name": "R",
   "pygments_lexer": "r",
   "version": "4.0.2"
  }
 },
 "nbformat": 4,
 "nbformat_minor": 4
}
