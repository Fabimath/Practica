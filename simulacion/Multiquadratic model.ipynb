{
 "cells": [
  {
   "cell_type": "markdown",
   "metadata": {},
   "source": [
    "# Simulación en Esfera de Multiquadric model"
   ]
  },
  {
   "cell_type": "code",
   "execution_count": 1,
   "metadata": {},
   "outputs": [],
   "source": [
    "library(\"plot3D\")"
   ]
  },
  {
   "cell_type": "code",
   "execution_count": 2,
   "metadata": {},
   "outputs": [],
   "source": [
    "grid_size = 10;"
   ]
  },
  {
   "cell_type": "code",
   "execution_count": 3,
   "metadata": {},
   "outputs": [],
   "source": [
    "eps = 0.01;\n",
    "theta = seq(0+eps,pi-eps,l=grid_size);\n",
    "phi = seq(0,2*pi-eps,l=grid_size);\n",
    "coord = expand.grid(phi,theta);"
   ]
  },
  {
   "cell_type": "code",
   "execution_count": 4,
   "metadata": {},
   "outputs": [],
   "source": [
    "x = sin(coord[,2])*cos(coord[,1]);\n",
    "y = sin(coord[,2])*sin(coord[,1]);\n",
    "z = cos(coord[,2]);"
   ]
  },
  {
   "cell_type": "code",
   "execution_count": 5,
   "metadata": {},
   "outputs": [],
   "source": [
    "nsites = length(x);\n",
    "val = 0.99999999999;"
   ]
  },
  {
   "cell_type": "code",
   "execution_count": 6,
   "metadata": {},
   "outputs": [],
   "source": [
    "mat = array(dim=c(nsites,nsites));"
   ]
  },
  {
   "cell_type": "code",
   "execution_count": 7,
   "metadata": {},
   "outputs": [],
   "source": [
    "# Parametros\n",
    "Delta = t(matrix(c\n",
    "(0.5 ,0.1,\n",
    "0.1 ,0.6)\n",
    ",ncol=2,nrow=2))"
   ]
  },
  {
   "cell_type": "code",
   "execution_count": 10,
   "metadata": {},
   "outputs": [],
   "source": [
    "cova = function(geod,Delta,i,j){\n",
    "      return((1 - Delta[i,j])/sqrt(1+(Delta[i,j])^2-2*Delta[i,j]*cos(geod)))\n",
    "}"
   ]
  },
  {
   "cell_type": "code",
   "execution_count": 11,
   "metadata": {},
   "outputs": [],
   "source": [
    "for(i in 1:nsites){\n",
    "  for(j in 1:nsites){\n",
    "    prod = x[i]*x[j]+y[i]*y[j]+z[i]*z[j];\n",
    "    if(prod > val){dij = 0;}\n",
    "    if(prod < -val){dij = pi;}\n",
    "    if(prod <= val & prod >= -val){dij = acos(prod);}\n",
    "    mat[i,j] = cova(dij,Delta,2,1);          \n",
    "  }\n",
    "}"
   ]
  },
  {
   "cell_type": "code",
   "execution_count": 12,
   "metadata": {},
   "outputs": [
    {
     "ename": "ERROR",
     "evalue": "Error in chol.default(mat): la submatriz de orden 8 no es definida positiva\n",
     "output_type": "error",
     "traceback": [
      "Error in chol.default(mat): la submatriz de orden 8 no es definida positiva\nTraceback:\n",
      "1. t(chol(mat))",
      "2. chol(mat)",
      "3. chol.default(mat)"
     ]
    }
   ],
   "source": [
    "set.seed(0)\n",
    "datos = t(chol(mat))%*%rnorm(nsites);"
   ]
  },
  {
   "cell_type": "markdown",
   "metadata": {},
   "source": [
    "$$\\mathbf{K}(\\vartheta)=\\sum_{n=0}^{\\infty} \\mathbf{B}(n) c_{n, d}(\\cos \\vartheta)$$"
   ]
  },
  {
   "cell_type": "markdown",
   "metadata": {},
   "source": [
    "$$\n",
    "c_{n, d}(\\cos \\vartheta)=\\frac{C_{n}^{(d-1) / 2}(\\cos \\vartheta)}{C_{n}^{(d-1) / 2}(1)}\n",
    "$$"
   ]
  },
  {
   "cell_type": "markdown",
   "metadata": {},
   "source": [
    "Para este modelo tenemos que:\n",
    "$$\n",
    "b\\left(n ; \\delta_{i j}\\right)=\\left(1-\\delta_{i j}\\right) \\delta_{i j}^{n}, \\quad i, j=1,2, \\quad n \\in \\mathbb{N}_{0}\n",
    "$$"
   ]
  },
  {
   "cell_type": "code",
   "execution_count": 30,
   "metadata": {},
   "outputs": [],
   "source": [
    "# Otra idea\n",
    "library('polynom')\n",
    "library('orthopolynom')\n",
    "#gegenbauer.polynomials(n, alpha, normalized=FALSE)"
   ]
  },
  {
   "cell_type": "code",
   "execution_count": 31,
   "metadata": {},
   "outputs": [],
   "source": [
    "# Parametros\n",
    "Delta = t(matrix(c\n",
    "(0.9 ,0.1,\n",
    "0.1 ,0.6)\n",
    ",ncol=2,nrow=2))\n",
    "d = 2 #dimension\n",
    "geod=1"
   ]
  },
  {
   "cell_type": "code",
   "execution_count": 32,
   "metadata": {},
   "outputs": [],
   "source": [
    "b = function(n,Delta,i,j) (1- Delta[i,j])*Delta[i,j]^n"
   ]
  },
  {
   "cell_type": "code",
   "execution_count": 33,
   "metadata": {},
   "outputs": [],
   "source": [
    "c_pol = function(n,d,geod) predict(gegenbauer.polynomials(n,(d-1)/2)[[n+1]],cos(geod))/predict(gegenbauer.polynomials(n,(d-1)/2)[[n+1]],1)"
   ]
  },
  {
   "cell_type": "code",
   "execution_count": 34,
   "metadata": {},
   "outputs": [],
   "source": [
    "B_11 = function(n,Delta)  b(n,Delta,1,1) \n",
    "B_12 = function(n,Delta)  b(n,Delta,1,2) \n",
    "B_22 = function(n,Delta)  b(n,Delta,2,2) "
   ]
  },
  {
   "cell_type": "code",
   "execution_count": 35,
   "metadata": {},
   "outputs": [],
   "source": [
    "K_11 = function(geod,tol){\n",
    "    res = B_11(0,Delta)*c_pol(0,d,geod)\n",
    "    for(n in c(1,tol)){\n",
    "        res = res + B_11(n,Delta)*c_pol(n,d,geod)\n",
    "    }\n",
    "    return(res)\n",
    "}\n",
    "K_12 = function(geod,tol){\n",
    "    res = B_12(0,Delta)*c_pol(0,d,geod)\n",
    "    for(n in c(1,tol)){\n",
    "        res = res + B_12(n,Delta)*c_pol(n,d,geod)\n",
    "    }\n",
    "    return(res)\n",
    "}\n",
    "K_22 = function(geod,tol){\n",
    "    res = B_22(0,Delta)*c_pol(0,d,geod)\n",
    "    for(n in c(1,tol)){\n",
    "        res = res + B_22(n,Delta)*c_pol(n,d,geod)\n",
    "    }\n",
    "    return(res)\n",
    "}"
   ]
  },
  {
   "cell_type": "code",
   "execution_count": 36,
   "metadata": {},
   "outputs": [],
   "source": [
    "cova = K_11"
   ]
  },
  {
   "cell_type": "code",
   "execution_count": 37,
   "metadata": {},
   "outputs": [],
   "source": [
    "library(\"plot3D\")"
   ]
  },
  {
   "cell_type": "code",
   "execution_count": 48,
   "metadata": {},
   "outputs": [],
   "source": [
    "grid_size = 9;"
   ]
  },
  {
   "cell_type": "code",
   "execution_count": 49,
   "metadata": {},
   "outputs": [],
   "source": [
    "eps = 0.01;\n",
    "theta = seq(0+eps,pi-eps,l=grid_size);\n",
    "phi = seq(0,2*pi-eps,l=grid_size);\n",
    "coord = expand.grid(phi,theta);\n",
    "x = sin(coord[,2])*cos(coord[,1]);\n",
    "y = sin(coord[,2])*sin(coord[,1]);\n",
    "z = cos(coord[,2]);\n",
    "nsites = length(x);\n",
    "val = 0.99999999999;\n",
    "escala = 1;\n",
    "mat = array(dim=c(nsites,nsites));"
   ]
  },
  {
   "cell_type": "code",
   "execution_count": 50,
   "metadata": {},
   "outputs": [],
   "source": [
    "for(i in 1:nsites){\n",
    "  for(j in 1:nsites){\n",
    "    prod = x[i]*x[j]+y[i]*y[j]+z[i]*z[j];\n",
    "    if(prod > val){dij = 0;}\n",
    "    if(prod < -val){dij = pi;}\n",
    "    if(prod <= val & prod >= -val){dij = acos(prod);}\n",
    "    mat[i,j] = cova(dij,10);          \n",
    "  }\n",
    "}"
   ]
  },
  {
   "cell_type": "code",
   "execution_count": 51,
   "metadata": {},
   "outputs": [
    {
     "ename": "ERROR",
     "evalue": "Error in chol.default(mat): la submatriz de orden 30 no es definida positiva\n",
     "output_type": "error",
     "traceback": [
      "Error in chol.default(mat): la submatriz de orden 30 no es definida positiva\nTraceback:\n",
      "1. t(chol(mat))",
      "2. chol(mat)",
      "3. chol.default(mat)"
     ]
    }
   ],
   "source": [
    "datos = t(chol(mat))%*%rnorm(nsites);"
   ]
  },
  {
   "cell_type": "code",
   "execution_count": null,
   "metadata": {},
   "outputs": [],
   "source": [
    "\n"
   ]
  },
  {
   "cell_type": "markdown",
   "metadata": {},
   "source": [
    "$$\n",
    "R=\\left(\\begin{array}{cccc}\n",
    "1 & 0 & 1 / 2 & 1 / \\sqrt{2} \\\\\n",
    "0 & 1 & 1 / \\sqrt{2} & -1 / \\sqrt{2} \\\\\n",
    "1 / \\sqrt{2} & 1 / \\sqrt{2} & 1 & 0 \\\\\n",
    "1 / \\sqrt{2} & -1 / \\sqrt{2} & 0 & 1\n",
    "\\end{array}\\right)\n",
    "$$"
   ]
  },
  {
   "cell_type": "markdown",
   "metadata": {},
   "source": [
    "$\\left(\\lambda_{1}, \\lambda_{2}, \\lambda_{3}, \\lambda_{4}\\right)=(2,2,0,0)$\n",
    "\n",
    "$$\n",
    "T=\\left(\\begin{array}{cccc}\n",
    "1 / \\sqrt{2} & 1 / \\sqrt{2} & -1 / \\sqrt{2} & -1 / \\sqrt{2} \\\\\n",
    "1 / \\sqrt{2} & 1 / \\sqrt{2} & 1 / \\sqrt{2} & -1 / \\sqrt{2} \\\\\n",
    "1 & 0 & 0 & 1 \\\\\n",
    "0 & 1 & 1 & 0\n",
    "\\end{array}\\right)\n",
    "$$"
   ]
  },
  {
   "cell_type": "markdown",
   "metadata": {},
   "source": [
    "$$\n",
    "\\begin{array}{l}\n",
    "y_{1}=t_{1} \\cdot \\bar{x}=\\frac{1}{\\sqrt{2}} \\bar{x}_{1}+\\frac{1}{\\sqrt{2}} \\bar{x}_{2}+\\bar{x}_{3} \\\\\n",
    "y_{2}=t_{2} \\cdot \\bar{x}=\\frac{1}{\\sqrt{2}} \\bar{x}_{1}+\\frac{1}{\\sqrt{2}} \\bar{x}_{2}+\\bar{x}_{4} \\\\\n",
    "y_{3}=t_{3} \\cdot \\bar{x}=-\\frac{1}{\\sqrt{2}} \\bar{x}_{1}+\\frac{1}{\\sqrt{2}} \\bar{x}_{2}+\\bar{x}_{4} \\\\\n",
    "y_{4}=t_{4} \\cdot \\bar{x}=-\\frac{1}{\\sqrt{2}} \\bar{x}_{1}-\\frac{1}{\\sqrt{2}} \\bar{x}_{2}+\\bar{x}_{3}\n",
    "\\end{array}\n",
    "$$"
   ]
  },
  {
   "cell_type": "markdown",
   "metadata": {},
   "source": [
    "$$\n",
    "\\begin{array}{ll}\n",
    "r_{1}=\\frac{\\lambda_{1}}{\\sum \\lambda_{j}}=\\frac{1}{2} & r_{3}=\\frac{\\lambda_{3}}{\\sum \\lambda_{j}}=0 \\\\\n",
    "r_{2}=\\frac{\\lambda_{2}}{\\sum \\lambda_{j}}=\\frac{1}{2} & r_{4}=\\frac{\\lambda_{4}}{\\sum \\lambda_{j}}=0\n",
    "\\end{array}\n",
    "$$"
   ]
  }
 ],
 "metadata": {
  "kernelspec": {
   "display_name": "R",
   "language": "R",
   "name": "ir"
  },
  "language_info": {
   "codemirror_mode": "r",
   "file_extension": ".r",
   "mimetype": "text/x-r-source",
   "name": "R",
   "pygments_lexer": "r",
   "version": "4.0.2"
  }
 },
 "nbformat": 4,
 "nbformat_minor": 4
}
