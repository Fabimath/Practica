{
 "cells": [
  {
   "cell_type": "markdown",
   "metadata": {},
   "source": [
    "# Simulación en Esfera de Multiquadric model"
   ]
  },
  {
   "cell_type": "code",
   "execution_count": 1,
   "metadata": {},
   "outputs": [],
   "source": [
    "library(\"plot3D\")"
   ]
  },
  {
   "cell_type": "code",
   "execution_count": 2,
   "metadata": {},
   "outputs": [],
   "source": [
    "grid_size = 10;"
   ]
  },
  {
   "cell_type": "code",
   "execution_count": 3,
   "metadata": {},
   "outputs": [],
   "source": [
    "eps = 0.01;\n",
    "theta = seq(0+eps,pi-eps,l=grid_size);\n",
    "phi = seq(0,2*pi-eps,l=grid_size);\n",
    "coord = expand.grid(phi,theta);"
   ]
  },
  {
   "cell_type": "code",
   "execution_count": 4,
   "metadata": {},
   "outputs": [],
   "source": [
    "x = sin(coord[,2])*cos(coord[,1]);\n",
    "y = sin(coord[,2])*sin(coord[,1]);\n",
    "z = cos(coord[,2]);"
   ]
  },
  {
   "cell_type": "code",
   "execution_count": 5,
   "metadata": {},
   "outputs": [],
   "source": [
    "nsites = length(x);\n",
    "val = 0.99999999999;"
   ]
  },
  {
   "cell_type": "code",
   "execution_count": 6,
   "metadata": {},
   "outputs": [],
   "source": [
    "mat = array(dim=c(nsites,nsites));"
   ]
  },
  {
   "cell_type": "code",
   "execution_count": 7,
   "metadata": {},
   "outputs": [],
   "source": [
    "# Parametros\n",
    "Delta = t(matrix(c\n",
    "(0.5 ,0.1,\n",
    "0.1 ,0.6)\n",
    ",ncol=2,nrow=2))"
   ]
  },
  {
   "cell_type": "code",
   "execution_count": 8,
   "metadata": {},
   "outputs": [],
   "source": [
    "cova = function(geod,Delta,i,j){\n",
    "      return((1 - Delta[i,j])/sqrt(1+(Delta[i,j])^2-2*Delta[i,j]*cos(geod)))\n",
    "}"
   ]
  },
  {
   "cell_type": "code",
   "execution_count": 9,
   "metadata": {},
   "outputs": [],
   "source": [
    "for(i in 1:nsites){\n",
    "  for(j in 1:nsites){\n",
    "    prod = x[i]*x[j]+y[i]*y[j]+z[i]*z[j];\n",
    "    if(prod > val){dij = 0;}\n",
    "    if(prod < -val){dij = pi;}\n",
    "    if(prod <= val & prod >= -val){dij = acos(prod);}\n",
    "    mat[i,j] = cova(dij,Delta,2,1);          \n",
    "  }\n",
    "}"
   ]
  },
  {
   "cell_type": "code",
   "execution_count": 10,
   "metadata": {},
   "outputs": [
    {
     "ename": "ERROR",
     "evalue": "Error in chol.default(mat): la submatriz de orden 8 no es definida positiva\n",
     "output_type": "error",
     "traceback": [
      "Error in chol.default(mat): la submatriz de orden 8 no es definida positiva\nTraceback:\n",
      "1. t(chol(mat))",
      "2. chol(mat)",
      "3. chol.default(mat)"
     ]
    }
   ],
   "source": [
    "set.seed(0)\n",
    "datos = t(chol(mat))%*%rnorm(nsites);"
   ]
  },
  {
   "cell_type": "markdown",
   "metadata": {},
   "source": [
    "$$\\mathbf{K}(\\vartheta)=\\sum_{n=0}^{\\infty} \\mathbf{B}(n) c_{n, d}(\\cos \\vartheta)$$"
   ]
  },
  {
   "cell_type": "markdown",
   "metadata": {},
   "source": [
    "$$\n",
    "c_{n, d}(\\cos \\vartheta)=\\frac{C_{n}^{(d-1) / 2}(\\cos \\vartheta)}{C_{n}^{(d-1) / 2}(1)}\n",
    "$$"
   ]
  },
  {
   "cell_type": "markdown",
   "metadata": {},
   "source": [
    "Para este modelo tenemos que:\n",
    "$$\n",
    "b\\left(n ; \\delta_{i j}\\right)=\\left(1-\\delta_{i j}\\right) \\delta_{i j}^{n}, \\quad i, j=1,2, \\quad n \\in \\mathbb{N}_{0}\n",
    "$$"
   ]
  },
  {
   "cell_type": "code",
   "execution_count": 17,
   "metadata": {},
   "outputs": [],
   "source": [
    "# Otra idea\n",
    "library('polynom')\n",
    "library('orthopolynom')\n",
    "#gegenbauer.polynomials(n, alpha, normalized=FALSE)"
   ]
  },
  {
   "cell_type": "code",
   "execution_count": 18,
   "metadata": {},
   "outputs": [],
   "source": [
    "# Parametros\n",
    "Delta = t(matrix(c\n",
    "(0.5 ,0.1,\n",
    "0.1 ,0.6)\n",
    ",ncol=2,nrow=2))\n",
    "d = 2 #dimension\n",
    "geod=1"
   ]
  },
  {
   "cell_type": "code",
   "execution_count": 19,
   "metadata": {},
   "outputs": [],
   "source": [
    "b = function(n,Delta,i,j) (1- Delta[i,j])*Delta[i,j]^n"
   ]
  },
  {
   "cell_type": "code",
   "execution_count": 20,
   "metadata": {},
   "outputs": [],
   "source": [
    "c_pol = function(n,d,geod) predict(gegenbauer.polynomials(n,(d-1)/2)[[n+1]],cos(geod))/predict(gegenbauer.polynomials(n,(d-1)/2)[[n+1]],1)"
   ]
  },
  {
   "cell_type": "code",
   "execution_count": 21,
   "metadata": {},
   "outputs": [],
   "source": [
    "B = function(n,Delta) t(matrix(c( b(n,Delta,1,1) , b(n,Delta,1,2) ,b(n,Delta,2,1) ,b(n,Delta,2,2)),ncol=2,nrow=2))"
   ]
  },
  {
   "cell_type": "code",
   "execution_count": 23,
   "metadata": {},
   "outputs": [],
   "source": [
    "K = function(geod,tol){\n",
    "    res = B(0,Delta)*c_pol(0,d,geod)\n",
    "    for(n in c(1,tol)){\n",
    "        res = res + B(n,Delta)*c_pol(n,d,geod)\n",
    "    }\n",
    "    return(res)\n",
    "}"
   ]
  },
  {
   "cell_type": "code",
   "execution_count": 39,
   "metadata": {},
   "outputs": [
    {
     "data": {
      "text/html": [
       "<table>\n",
       "<caption>A matrix: 2 × 2 of type dbl</caption>\n",
       "<tbody>\n",
       "\t<tr><td>0.7294891</td><td>0.9828954</td></tr>\n",
       "\t<tr><td>0.9828954</td><td>0.6192007</td></tr>\n",
       "</tbody>\n",
       "</table>\n"
      ],
      "text/latex": [
       "A matrix: 2 × 2 of type dbl\n",
       "\\begin{tabular}{ll}\n",
       "\t 0.7294891 & 0.9828954\\\\\n",
       "\t 0.9828954 & 0.6192007\\\\\n",
       "\\end{tabular}\n"
      ],
      "text/markdown": [
       "\n",
       "A matrix: 2 × 2 of type dbl\n",
       "\n",
       "| 0.7294891 | 0.9828954 |\n",
       "| 0.9828954 | 0.6192007 |\n",
       "\n"
      ],
      "text/plain": [
       "     [,1]      [,2]     \n",
       "[1,] 0.7294891 0.9828954\n",
       "[2,] 0.9828954 0.6192007"
      ]
     },
     "metadata": {},
     "output_type": "display_data"
    }
   ],
   "source": [
    "K(0.4,6)"
   ]
  }
 ],
 "metadata": {
  "kernelspec": {
   "display_name": "R",
   "language": "R",
   "name": "ir"
  },
  "language_info": {
   "codemirror_mode": "r",
   "file_extension": ".r",
   "mimetype": "text/x-r-source",
   "name": "R",
   "pygments_lexer": "r",
   "version": "4.0.2"
  }
 },
 "nbformat": 4,
 "nbformat_minor": 4
}
